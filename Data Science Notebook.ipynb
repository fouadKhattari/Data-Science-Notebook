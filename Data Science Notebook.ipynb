{
 "cells": [
  {
   "cell_type": "markdown",
   "id": "024e814a",
   "metadata": {},
   "source": [
    "The title of this notebook is \"Data Science Notebook\"."
   ]
  },
  {
   "cell_type": "markdown",
   "id": "e3239de3",
   "metadata": {},
   "source": [
    "# exercice 3"
   ]
  },
  {
   "cell_type": "markdown",
   "id": "e38d8170",
   "metadata": {},
   "source": [
    "Welcome to this notebook dedicated to data science! In this notebook, we will explore various data science topics, including programming languages, libraries, and tools commonly used in the field. We will also cover some basic arithmetic expressions and conversions."
   ]
  },
  {
   "cell_type": "markdown",
   "id": "6ae36d00",
   "metadata": {},
   "source": [
    "# Exercise 4 - Data Science Languages"
   ]
  },
  {
   "cell_type": "markdown",
   "id": "18bf91dc",
   "metadata": {},
   "source": [
    "Python                                                  \n",
    "Julia                             \n",
    "SQL        \n",
    "MATLAB            \n",
    "R  "
   ]
  },
  {
   "cell_type": "markdown",
   "id": "123e9ea9",
   "metadata": {},
   "source": [
    "# Exercise 5 - Data Science Libraries"
   ]
  },
  {
   "cell_type": "markdown",
   "id": "66a6b01c",
   "metadata": {},
   "source": [
    "NumPy\n",
    "\n",
    "Pandas\n",
    "\n",
    "Scikit-Learn\n",
    "\n",
    "Matplotlib\n",
    "\n",
    "Seaborn"
   ]
  },
  {
   "cell_type": "markdown",
   "id": "3a0c4a8d",
   "metadata": {},
   "source": [
    "# Exercise 6 - Data Science Tools Table"
   ]
  },
  {
   "cell_type": "markdown",
   "id": "c5339514",
   "metadata": {},
   "source": [
    "| Tool | Description |\n",
    "| --- | --- |\n",
    "| Jupyter Notebook | An open-source web application used to create and share documents that contain live code, equations, visualizations, and narrative text. |\n",
    "| --- | --- |\n",
    "| Git  | A free and open-source distributed version control system designed to handle everything from small to very large projects with speed and efficiency. |\n",
    "| --- | --- |\n",
    "| Anaconda  | A distribution of the Python and R programming languages for scientific computing, that aims to simplify package management and deployment. |\n",
    "| --- | --- |\n",
    "| Tableau  | A business intelligence and data visualization tool that enables users to connect, visualize, and share data in a way that  accessible to everyone|"
   ]
  },
  {
   "cell_type": "markdown",
   "id": "d3766b33",
   "metadata": {},
   "source": [
    "# Exercise 7 - Arithmetic Expression Examples"
   ]
  },
  {
   "cell_type": "markdown",
   "id": "62f1c281",
   "metadata": {},
   "source": [
    "Here are some examples:\n",
    "2 + 2 = 4\n",
    "\n",
    "3 * 5 = 15\n",
    "\n",
    "6 / 2 = 3\n",
    "\n",
    "7 - 4 = 3\n",
    "10 % 3 = 1 (modulus operator returns the remainder of the division)"
   ]
  },
  {
   "cell_type": "markdown",
   "id": "10d333eb",
   "metadata": {},
   "source": [
    "# Exercise 8 - Multiplying and Adding Numbers"
   ]
  },
  {
   "cell_type": "code",
   "execution_count": 1,
   "id": "1c6084b1",
   "metadata": {},
   "outputs": [],
   "source": [
    "a = 2\n",
    "b = 3\n",
    "c = a * b  \n",
    "d = a + b   "
   ]
  },
  {
   "cell_type": "markdown",
   "id": "15094e01",
   "metadata": {},
   "source": [
    "# Exercise 9 - Converting Minutes to Hours"
   ]
  },
  {
   "cell_type": "code",
   "execution_count": 2,
   "id": "2e013657",
   "metadata": {},
   "outputs": [],
   "source": [
    "minutes = 120\n",
    "hours = minutes / 60   "
   ]
  },
  {
   "cell_type": "markdown",
   "id": "9de51dd3",
   "metadata": {},
   "source": [
    "# Exercise 10 - Objectives"
   ]
  },
  {
   "cell_type": "markdown",
   "id": "79eca0ef",
   "metadata": {},
   "source": [
    "The objectives of this notebook are to:\n",
    "\n",
    ". Introduce common data science languages and libraries\n",
    "\n",
    ". Provide an overview of popular data science tools\n",
    "\n",
    ". Review basic arithmetic expressions and conversions"
   ]
  },
  {
   "cell_type": "markdown",
   "id": "24196dbf",
   "metadata": {},
   "source": [
    "# Exercise 11 - Author's Name"
   ]
  },
  {
   "cell_type": "markdown",
   "id": "8324166d",
   "metadata": {},
   "source": [
    "This notebook was created by me Khattari Fouad."
   ]
  },
  {
   "cell_type": "markdown",
   "id": "42cb57b2",
   "metadata": {},
   "source": [
    "# Exercise 12 - GitHub Link"
   ]
  },
  {
   "cell_type": "markdown",
   "id": "df93937d",
   "metadata": {},
   "source": [
    "This notebook can be found on GitHub at: https://github.com/fouadKhattari/Data-Science-Notebook.git"
   ]
  },
  {
   "cell_type": "markdown",
   "id": "0865b9f5",
   "metadata": {},
   "source": [
    "# Exercise 13 - Screenshot"
   ]
  },
  {
   "cell_type": "markdown",
   "id": "5c08cdc5",
   "metadata": {},
   "source": [
    "Screenshot taken and saved as \"notebook_screenshot.png\"."
   ]
  },
  {
   "cell_type": "code",
   "execution_count": null,
   "id": "dd044efb",
   "metadata": {},
   "outputs": [],
   "source": []
  }
 ],
 "metadata": {
  "kernelspec": {
   "display_name": "Python 3 (ipykernel)",
   "language": "python",
   "name": "python3"
  },
  "language_info": {
   "codemirror_mode": {
    "name": "ipython",
    "version": 3
   },
   "file_extension": ".py",
   "mimetype": "text/x-python",
   "name": "python",
   "nbconvert_exporter": "python",
   "pygments_lexer": "ipython3",
   "version": "3.9.13"
  }
 },
 "nbformat": 4,
 "nbformat_minor": 5
}
